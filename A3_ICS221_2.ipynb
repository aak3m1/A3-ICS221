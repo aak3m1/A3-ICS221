{
  "nbformat": 4,
  "nbformat_minor": 0,
  "metadata": {
    "colab": {
      "provenance": [],
      "authorship_tag": "ABX9TyMuBplBJ4OxiYcJpbt6CXCj",
      "include_colab_link": true
    },
    "kernelspec": {
      "name": "python3",
      "display_name": "Python 3"
    },
    "language_info": {
      "name": "python"
    }
  },
  "cells": [
    {
      "cell_type": "markdown",
      "metadata": {
        "id": "view-in-github",
        "colab_type": "text"
      },
      "source": [
        "<a href=\"https://colab.research.google.com/github/aak3m1/A3-ICS221/blob/main/A3_ICS221_2.ipynb\" target=\"_parent\"><img src=\"https://colab.research.google.com/assets/colab-badge.svg\" alt=\"Open In Colab\"/></a>"
      ]
    },
    {
      "cell_type": "code",
      "execution_count": 1,
      "metadata": {
        "colab": {
          "base_uri": "https://localhost:8080/"
        },
        "id": "NdSgWDCjNmqe",
        "outputId": "02122bb1-7b9b-45d0-f61a-56389bd15e39"
      },
      "outputs": [
        {
          "output_type": "stream",
          "name": "stdout",
          "text": [
            "Shortest paths from intersection 0: {0: 0, 1: 5, 2: 7, 3: inf, 4: inf, 5: inf, 6: inf, 7: inf, 8: inf, 9: inf, 10: inf, 11: inf, 12: inf, 13: inf, 14: inf, 15: inf, 16: inf, 17: inf, 18: inf, 19: inf, 20: inf, 21: inf, 22: inf, 23: inf, 24: inf, 25: inf, 26: inf, 27: inf, 28: inf, 29: inf, 30: inf, 31: inf, 32: inf, 33: inf, 34: inf, 35: inf, 36: inf, 37: inf, 38: inf, 39: inf, 40: inf, 41: inf, 42: inf, 43: inf, 44: inf, 45: inf, 46: inf, 47: inf, 48: inf, 49: inf, 50: inf, 51: inf, 52: inf, 53: inf, 54: inf, 55: inf, 56: inf, 57: inf, 58: inf, 59: inf, 60: inf, 61: inf, 62: inf, 63: inf, 64: inf, 65: inf, 66: inf, 67: inf, 68: inf, 69: inf, 70: inf, 71: inf, 72: inf, 73: inf, 74: inf, 75: inf, 76: inf, 77: inf, 78: inf, 79: inf, 80: inf, 81: inf, 82: inf, 83: inf, 84: inf, 85: inf, 86: inf, 87: inf, 88: inf, 89: inf, 90: inf, 91: inf, 92: inf, 93: inf, 94: inf, 95: inf, 96: inf, 97: inf, 98: inf, 99: inf}\n"
          ]
        }
      ],
      "source": [
        "import heapq\n",
        "\n",
        "class Intersection:\n",
        "    def __init__(self, id):\n",
        "        self.id = id\n",
        "\n",
        "class Road:\n",
        "    def __init__(self, id, name, length, start, end):\n",
        "        self.id = id\n",
        "        self.name = name\n",
        "        self.length = length\n",
        "        self.start = start\n",
        "        self.end = end\n",
        "\n",
        "class TrafficGraph:\n",
        "    def __init__(self, vertices):\n",
        "        self.graph = {i: [] for i in range(vertices)}  # adjacency list representation\n",
        "\n",
        "    def add_road(self, road):\n",
        "        # Edge from start to end with 'length' as the weight\n",
        "        self.graph[road.start].append((road.end, road.length))\n",
        "        # Assuming undirected graph for bidirectional roads\n",
        "        self.graph[road.end].append((road.start, road.length))\n",
        "\n",
        "    def dijkstra(self, start_vertex):\n",
        "        # Minimum distances are initialized to infinity\n",
        "        distances = {vertex: float('infinity') for vertex in self.graph}\n",
        "        distances[start_vertex] = 0\n",
        "        # Priority queue to hold vertices and their current distances\n",
        "        priority_queue = [(0, start_vertex)]\n",
        "\n",
        "        while priority_queue:\n",
        "            current_distance, current_vertex = heapq.heappop(priority_queue)\n",
        "\n",
        "            # Nodes can only be added once to the queue\n",
        "            if current_distance > distances[current_vertex]:\n",
        "                continue\n",
        "\n",
        "            for neighbor, weight in self.graph[current_vertex]:\n",
        "                distance = current_distance + weight\n",
        "\n",
        "                # Only consider this new path if it's better\n",
        "                if distance < distances[neighbor]:\n",
        "                    distances[neighbor] = distance\n",
        "                    heapq.heappush(priority_queue, (distance, neighbor))\n",
        "\n",
        "        return distances\n",
        "\n",
        "# Example of using the graph\n",
        "traffic_graph = TrafficGraph(100)  # max 100 vertices\n",
        "traffic_graph.add_road(Road(1, \"Main Street\", 5, 0, 1))\n",
        "traffic_graph.add_road(Road(2, \"Second Street\", 3, 1, 2))\n",
        "traffic_graph.add_road(Road(3, \"Third Avenue\", 7, 0, 2))\n",
        "\n",
        "# Compute shortest paths from vertex 0\n",
        "shortest_paths = traffic_graph.dijkstra(0)\n",
        "print(\"Shortest paths from intersection 0:\", shortest_paths)\n"
      ]
    },
    {
      "cell_type": "code",
      "source": [
        "import matplotlib.pyplot as plt\n",
        "import networkx as nx\n",
        "\n",
        "# Create a new directed graph\n",
        "G = nx.DiGraph()\n",
        "\n",
        "# Adding nodes (intersections)\n",
        "intersections = [0, 1, 2]\n",
        "for intersection in intersections:\n",
        "    G.add_node(intersection)\n",
        "\n",
        "# Adding edges (roads)\n",
        "roads = [(0, 1, 5), (1, 2, 3), (0, 2, 7)]\n",
        "for start, end, length in roads:\n",
        "    G.add_edge(start, end, weight=length)\n",
        "\n",
        "# Position nodes for visual purposes\n",
        "pos = nx.spring_layout(G)\n",
        "\n",
        "# Draw nodes\n",
        "nx.draw_networkx_nodes(G, pos, node_size=700)\n",
        "\n",
        "# Draw edges with labels\n",
        "nx.draw_networkx_edges(G, pos, edgelist=roads, arrowstyle='-|>', arrowsize=20, edge_color='r', style='dashed')\n",
        "labels = {edge: G[edge[0]][edge[1]]['weight'] for edge in G.edges()}\n",
        "nx.draw_networkx_edge_labels(G, pos, edge_labels=labels)\n",
        "\n",
        "# Draw node labels\n",
        "nx.draw_networkx_labels(G, pos, font_size=20, font_family=\"sans-serif\")\n",
        "\n",
        "plt.axis('off')  # Turn off the axis\n",
        "plt.show()  # Display the plot\n",
        "\n",
        "\n"
      ],
      "metadata": {
        "colab": {
          "base_uri": "https://localhost:8080/",
          "height": 406
        },
        "id": "aQ2LBY8kNwf6",
        "outputId": "b42b4363-e946-4b73-a3d3-45f678587902"
      },
      "execution_count": 2,
      "outputs": [
        {
          "output_type": "display_data",
          "data": {
            "text/plain": [
              "<Figure size 640x480 with 1 Axes>"
            ],
            "image/png": "[encoded data removed]"
          },
          "metadata": {}
        }
      ]
    }
  ]
}